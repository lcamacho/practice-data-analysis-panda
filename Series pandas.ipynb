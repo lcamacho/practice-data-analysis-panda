{
 "cells": [
  {
   "cell_type": "code",
   "execution_count": 1,
   "metadata": {},
   "outputs": [],
   "source": [
    "import pandas as pd"
   ]
  },
  {
   "cell_type": "code",
   "execution_count": 14,
   "metadata": {},
   "outputs": [],
   "source": [
    "pokemon = pd.read_csv('pokemon.csv', usecols = ['Pokemon'], squeeze = True)"
   ]
  },
  {
   "cell_type": "code",
   "execution_count": 15,
   "metadata": {},
   "outputs": [],
   "source": [
    "google = pd.read_csv('google_stock_price.csv', squeeze = True)"
   ]
  },
  {
   "cell_type": "code",
   "execution_count": 20,
   "metadata": {},
   "outputs": [
    {
     "data": {
      "text/plain": [
       "0    Bulbasaur\n",
       "Name: Pokemon, dtype: object"
      ]
     },
     "execution_count": 20,
     "metadata": {},
     "output_type": "execute_result"
    }
   ],
   "source": [
    "pokemon.head(1)"
   ]
  },
  {
   "cell_type": "code",
   "execution_count": 21,
   "metadata": {},
   "outputs": [
    {
     "data": {
      "text/plain": [
       "720    Volcanion\n",
       "Name: Pokemon, dtype: object"
      ]
     },
     "execution_count": 21,
     "metadata": {},
     "output_type": "execute_result"
    }
   ],
   "source": [
    "pokemon.tail(1)"
   ]
  },
  {
   "cell_type": "code",
   "execution_count": 22,
   "metadata": {
    "collapsed": true
   },
   "outputs": [
    {
     "data": {
      "text/plain": [
       "array(['Bulbasaur', 'Ivysaur', 'Venusaur', 'Charmander', 'Charmeleon',\n",
       "       'Charizard', 'Squirtle', 'Wartortle', 'Blastoise', 'Caterpie',\n",
       "       'Metapod', 'Butterfree', 'Weedle', 'Kakuna', 'Beedrill', 'Pidgey',\n",
       "       'Pidgeotto', 'Pidgeot', 'Rattata', 'Raticate', 'Spearow', 'Fearow',\n",
       "       'Ekans', 'Arbok', 'Pikachu', 'Raichu', 'Sandshrew', 'Sandslash',\n",
       "       'Nidoran', 'Nidorina', 'Nidoqueen', 'Nidoran♂', 'Nidorino',\n",
       "       'Nidoking', 'Clefairy', 'Clefable', 'Vulpix', 'Ninetales',\n",
       "       'Jigglypuff', 'Wigglytuff', 'Zubat', 'Golbat', 'Oddish', 'Gloom',\n",
       "       'Vileplume', 'Paras', 'Parasect', 'Venonat', 'Venomoth', 'Diglett',\n",
       "       'Dugtrio', 'Meowth', 'Persian', 'Psyduck', 'Golduck', 'Mankey',\n",
       "       'Primeape', 'Growlithe', 'Arcanine', 'Poliwag', 'Poliwhirl',\n",
       "       'Poliwrath', 'Abra', 'Kadabra', 'Alakazam', 'Machop', 'Machoke',\n",
       "       'Machamp', 'Bellsprout', 'Weepinbell', 'Victreebel', 'Tentacool',\n",
       "       'Tentacruel', 'Geodude', 'Graveler', 'Golem', 'Ponyta', 'Rapidash',\n",
       "       'Slowpoke', 'Slowbro', 'Magnemite', 'Magneton', \"Farfetch'd\",\n",
       "       'Doduo', 'Dodrio', 'Seel', 'Dewgong', 'Grimer', 'Muk', 'Shellder',\n",
       "       'Cloyster', 'Gastly', 'Haunter', 'Gengar', 'Onix', 'Drowzee',\n",
       "       'Hypno', 'Krabby', 'Kingler', 'Voltorb', 'Electrode', 'Exeggcute',\n",
       "       'Exeggutor', 'Cubone', 'Marowak', 'Hitmonlee', 'Hitmonchan',\n",
       "       'Lickitung', 'Koffing', 'Weezing', 'Rhyhorn', 'Rhydon', 'Chansey',\n",
       "       'Tangela', 'Kangaskhan', 'Horsea', 'Seadra', 'Goldeen', 'Seaking',\n",
       "       'Staryu', 'Starmie', 'Mr. Mime', 'Scyther', 'Jynx', 'Electabuzz',\n",
       "       'Magmar', 'Pinsir', 'Tauros', 'Magikarp', 'Gyarados', 'Lapras',\n",
       "       'Ditto', 'Eevee', 'Vaporeon', 'Jolteon', 'Flareon', 'Porygon',\n",
       "       'Omanyte', 'Omastar', 'Kabuto', 'Kabutops', 'Aerodactyl',\n",
       "       'Snorlax', 'Articuno', 'Zapdos', 'Moltres', 'Dratini', 'Dragonair',\n",
       "       'Dragonite', 'Mewtwo', 'Mew', 'Chikorita', 'Bayleef', 'Meganium',\n",
       "       'Cyndaquil', 'Quilava', 'Typhlosion', 'Totodile', 'Croconaw',\n",
       "       'Feraligatr', 'Sentret', 'Furret', 'Hoothoot', 'Noctowl', 'Ledyba',\n",
       "       'Ledian', 'Spinarak', 'Ariados', 'Crobat', 'Chinchou', 'Lanturn',\n",
       "       'Pichu', 'Cleffa', 'Igglybuff', 'Togepi', 'Togetic', 'Natu',\n",
       "       'Xatu', 'Mareep', 'Flaaffy', 'Ampharos', 'Bellossom', 'Marill',\n",
       "       'Azumarill', 'Sudowoodo', 'Politoed', 'Hoppip', 'Skiploom',\n",
       "       'Jumpluff', 'Aipom', 'Sunkern', 'Sunflora', 'Yanma', 'Wooper',\n",
       "       'Quagsire', 'Espeon', 'Umbreon', 'Murkrow', 'Slowking',\n",
       "       'Misdreavus', 'Unown', 'Wobbuffet', 'Girafarig', 'Pineco',\n",
       "       'Forretress', 'Dunsparce', 'Gligar', 'Steelix', 'Snubbull',\n",
       "       'Granbull', 'Qwilfish', 'Scizor', 'Shuckle', 'Heracross',\n",
       "       'Sneasel', 'Teddiursa', 'Ursaring', 'Slugma', 'Magcargo', 'Swinub',\n",
       "       'Piloswine', 'Corsola', 'Remoraid', 'Octillery', 'Delibird',\n",
       "       'Mantine', 'Skarmory', 'Houndour', 'Houndoom', 'Kingdra', 'Phanpy',\n",
       "       'Donphan', 'Porygon2', 'Stantler', 'Smeargle', 'Tyrogue',\n",
       "       'Hitmontop', 'Smoochum', 'Elekid', 'Magby', 'Miltank', 'Blissey',\n",
       "       'Raikou', 'Entei', 'Suicune', 'Larvitar', 'Pupitar', 'Tyranitar',\n",
       "       'Lugia', 'Ho-oh', 'Celebi', 'Treecko', 'Grovyle', 'Sceptile',\n",
       "       'Torchic', 'Combusken', 'Blaziken', 'Mudkip', 'Marshtomp',\n",
       "       'Swampert', 'Poochyena', 'Mightyena', 'Zigzagoon', 'Linoone',\n",
       "       'Wurmple', 'Silcoon', 'Beautifly', 'Cascoon', 'Dustox', 'Lotad',\n",
       "       'Lombre', 'Ludicolo', 'Seedot', 'Nuzleaf', 'Shiftry', 'Taillow',\n",
       "       'Swellow', 'Wingull', 'Pelipper', 'Ralts', 'Kirlia', 'Gardevoir',\n",
       "       'Surskit', 'Masquerain', 'Shroomish', 'Breloom', 'Slakoth',\n",
       "       'Vigoroth', 'Slaking', 'Nincada', 'Ninjask', 'Shedinja', 'Whismur',\n",
       "       'Loudred', 'Exploud', 'Makuhita', 'Hariyama', 'Azurill',\n",
       "       'Nosepass', 'Skitty', 'Delcatty', 'Sableye', 'Mawile', 'Aron',\n",
       "       'Lairon', 'Aggron', 'Meditite', 'Medicham', 'Electrike',\n",
       "       'Manectric', 'Plusle', 'Minun', 'Volbeat', 'Illumise', 'Roselia',\n",
       "       'Gulpin', 'Swalot', 'Carvanha', 'Sharpedo', 'Wailmer', 'Wailord',\n",
       "       'Numel', 'Camerupt', 'Torkoal', 'Spoink', 'Grumpig', 'Spinda',\n",
       "       'Trapinch', 'Vibrava', 'Flygon', 'Cacnea', 'Cacturne', 'Swablu',\n",
       "       'Altaria', 'Zangoose', 'Seviper', 'Lunatone', 'Solrock',\n",
       "       'Barboach', 'Whiscash', 'Corphish', 'Crawdaunt', 'Baltoy',\n",
       "       'Claydol', 'Lileep', 'Cradily', 'Anorith', 'Armaldo', 'Feebas',\n",
       "       'Milotic', 'Castform', 'Kecleon', 'Shuppet', 'Banette', 'Duskull',\n",
       "       'Dusclops', 'Tropius', 'Chimecho', 'Absol', 'Wynaut', 'Snorunt',\n",
       "       'Glalie', 'Spheal', 'Sealeo', 'Walrein', 'Clamperl', 'Huntail',\n",
       "       'Gorebyss', 'Relicanth', 'Luvdisc', 'Bagon', 'Shelgon',\n",
       "       'Salamence', 'Beldum', 'Metang', 'Metagross', 'Regirock', 'Regice',\n",
       "       'Registeel', 'Latias', 'Latios', 'Kyogre', 'Groudon', 'Rayquaza',\n",
       "       'Jirachi', 'Deoxys', 'Turtwig', 'Grotle', 'Torterra', 'Chimchar',\n",
       "       'Monferno', 'Infernape', 'Piplup', 'Prinplup', 'Empoleon',\n",
       "       'Starly', 'Staravia', 'Staraptor', 'Bidoof', 'Bibarel',\n",
       "       'Kricketot', 'Kricketune', 'Shinx', 'Luxio', 'Luxray', 'Budew',\n",
       "       'Roserade', 'Cranidos', 'Rampardos', 'Shieldon', 'Bastiodon',\n",
       "       'Burmy', 'Wormadam', 'Mothim', 'Combee', 'Vespiquen', 'Pachirisu',\n",
       "       'Buizel', 'Floatzel', 'Cherubi', 'Cherrim', 'Shellos', 'Gastrodon',\n",
       "       'Ambipom', 'Drifloon', 'Drifblim', 'Buneary', 'Lopunny',\n",
       "       'Mismagius', 'Honchkrow', 'Glameow', 'Purugly', 'Chingling',\n",
       "       'Stunky', 'Skuntank', 'Bronzor', 'Bronzong', 'Bonsly', 'Mime Jr.',\n",
       "       'Happiny', 'Chatot', 'Spiritomb', 'Gible', 'Gabite', 'Garchomp',\n",
       "       'Munchlax', 'Riolu', 'Lucario', 'Hippopotas', 'Hippowdon',\n",
       "       'Skorupi', 'Drapion', 'Croagunk', 'Toxicroak', 'Carnivine',\n",
       "       'Finneon', 'Lumineon', 'Mantyke', 'Snover', 'Abomasnow', 'Weavile',\n",
       "       'Magnezone', 'Lickilicky', 'Rhyperior', 'Tangrowth', 'Electivire',\n",
       "       'Magmortar', 'Togekiss', 'Yanmega', 'Leafeon', 'Glaceon',\n",
       "       'Gliscor', 'Mamoswine', 'Porygon-Z', 'Gallade', 'Probopass',\n",
       "       'Dusknoir', 'Froslass', 'Rotom', 'Uxie', 'Mesprit', 'Azelf',\n",
       "       'Dialga', 'Palkia', 'Heatran', 'Regigigas', 'Giratina',\n",
       "       'Cresselia', 'Phione', 'Manaphy', 'Darkrai', 'Shaymin', 'Arceus',\n",
       "       'Victini', 'Snivy', 'Servine', 'Serperior', 'Tepig', 'Pignite',\n",
       "       'Emboar', 'Oshawott', 'Dewott', 'Samurott', 'Patrat', 'Watchog',\n",
       "       'Lillipup', 'Herdier', 'Stoutland', 'Purrloin', 'Liepard',\n",
       "       'Pansage', 'Simisage', 'Pansear', 'Simisear', 'Panpour',\n",
       "       'Simipour', 'Munna', 'Musharna', 'Pidove', 'Tranquill', 'Unfezant',\n",
       "       'Blitzle', 'Zebstrika', 'Roggenrola', 'Boldore', 'Gigalith',\n",
       "       'Woobat', 'Swoobat', 'Drilbur', 'Excadrill', 'Audino', 'Timburr',\n",
       "       'Gurdurr', 'Conkeldurr', 'Tympole', 'Palpitoad', 'Seismitoad',\n",
       "       'Throh', 'Sawk', 'Sewaddle', 'Swadloon', 'Leavanny', 'Venipede',\n",
       "       'Whirlipede', 'Scolipede', 'Cottonee', 'Whimsicott', 'Petilil',\n",
       "       'Lilligant', 'Basculin', 'Sandile', 'Krokorok', 'Krookodile',\n",
       "       'Darumaka', 'Darmanitan', 'Maractus', 'Dwebble', 'Crustle',\n",
       "       'Scraggy', 'Scrafty', 'Sigilyph', 'Yamask', 'Cofagrigus',\n",
       "       'Tirtouga', 'Carracosta', 'Archen', 'Archeops', 'Trubbish',\n",
       "       'Garbodor', 'Zorua', 'Zoroark', 'Minccino', 'Cinccino', 'Gothita',\n",
       "       'Gothorita', 'Gothitelle', 'Solosis', 'Duosion', 'Reuniclus',\n",
       "       'Ducklett', 'Swanna', 'Vanillite', 'Vanillish', 'Vanilluxe',\n",
       "       'Deerling', 'Sawsbuck', 'Emolga', 'Karrablast', 'Escavalier',\n",
       "       'Foongus', 'Amoonguss', 'Frillish', 'Jellicent', 'Alomomola',\n",
       "       'Joltik', 'Galvantula', 'Ferroseed', 'Ferrothorn', 'Klink',\n",
       "       'Klang', 'Klinklang', 'Tynamo', 'Eelektrik', 'Eelektross',\n",
       "       'Elgyem', 'Beheeyem', 'Litwick', 'Lampent', 'Chandelure', 'Axew',\n",
       "       'Fraxure', 'Haxorus', 'Cubchoo', 'Beartic', 'Cryogonal', 'Shelmet',\n",
       "       'Accelgor', 'Stunfisk', 'Mienfoo', 'Mienshao', 'Druddigon',\n",
       "       'Golett', 'Golurk', 'Pawniard', 'Bisharp', 'Bouffalant', 'Rufflet',\n",
       "       'Braviary', 'Vullaby', 'Mandibuzz', 'Heatmor', 'Durant', 'Deino',\n",
       "       'Zweilous', 'Hydreigon', 'Larvesta', 'Volcarona', 'Cobalion',\n",
       "       'Terrakion', 'Virizion', 'Tornadus', 'Thundurus', 'Reshiram',\n",
       "       'Zekrom', 'Landorus', 'Kyurem', 'Keldeo', 'Meloetta', 'Genesect',\n",
       "       'Chespin', 'Quilladin', 'Chesnaught', 'Fennekin', 'Braixen',\n",
       "       'Delphox', 'Froakie', 'Frogadier', 'Greninja', 'Bunnelby',\n",
       "       'Diggersby', 'Fletchling', 'Fletchinder', 'Talonflame',\n",
       "       'Scatterbug', 'Spewpa', 'Vivillon', 'Litleo', 'Pyroar', 'Flabébé',\n",
       "       'Floette', 'Florges', 'Skiddo', 'Gogoat', 'Pancham', 'Pangoro',\n",
       "       'Furfrou', 'Espurr', 'Meowstic', 'Honedge', 'Doublade',\n",
       "       'Aegislash', 'Spritzee', 'Aromatisse', 'Swirlix', 'Slurpuff',\n",
       "       'Inkay', 'Malamar', 'Binacle', 'Barbaracle', 'Skrelp', 'Dragalge',\n",
       "       'Clauncher', 'Clawitzer', 'Helioptile', 'Heliolisk', 'Tyrunt',\n",
       "       'Tyrantrum', 'Amaura', 'Aurorus', 'Sylveon', 'Hawlucha', 'Dedenne',\n",
       "       'Carbink', 'Goomy', 'Sliggoo', 'Goodra', 'Klefki', 'Phantump',\n",
       "       'Trevenant', 'Pumpkaboo', 'Gourgeist', 'Bergmite', 'Avalugg',\n",
       "       'Noibat', 'Noivern', 'Xerneas', 'Yveltal', 'Zygarde', 'Diancie',\n",
       "       'Hoopa', 'Volcanion'], dtype=object)"
      ]
     },
     "execution_count": 22,
     "metadata": {},
     "output_type": "execute_result"
    }
   ],
   "source": [
    "pokemon.values"
   ]
  },
  {
   "cell_type": "code",
   "execution_count": 23,
   "metadata": {},
   "outputs": [
    {
     "data": {
      "text/plain": [
       "RangeIndex(start=0, stop=721, step=1)"
      ]
     },
     "execution_count": 23,
     "metadata": {},
     "output_type": "execute_result"
    }
   ],
   "source": [
    "pokemon.index"
   ]
  },
  {
   "cell_type": "code",
   "execution_count": 24,
   "metadata": {},
   "outputs": [
    {
     "data": {
      "text/plain": [
       "dtype('O')"
      ]
     },
     "execution_count": 24,
     "metadata": {},
     "output_type": "execute_result"
    }
   ],
   "source": [
    "pokemon.dtype"
   ]
  },
  {
   "cell_type": "code",
   "execution_count": 25,
   "metadata": {},
   "outputs": [
    {
     "data": {
      "text/plain": [
       "False"
      ]
     },
     "execution_count": 25,
     "metadata": {},
     "output_type": "execute_result"
    }
   ],
   "source": [
    "google.is_unique"
   ]
  },
  {
   "cell_type": "code",
   "execution_count": 26,
   "metadata": {},
   "outputs": [
    {
     "data": {
      "text/plain": [
       "True"
      ]
     },
     "execution_count": 26,
     "metadata": {},
     "output_type": "execute_result"
    }
   ],
   "source": [
    "pokemon.is_unique"
   ]
  },
  {
   "cell_type": "code",
   "execution_count": 27,
   "metadata": {},
   "outputs": [
    {
     "data": {
      "text/plain": [
       "1"
      ]
     },
     "execution_count": 27,
     "metadata": {},
     "output_type": "execute_result"
    }
   ],
   "source": [
    "google.ndim"
   ]
  },
  {
   "cell_type": "code",
   "execution_count": 28,
   "metadata": {},
   "outputs": [
    {
     "data": {
      "text/plain": [
       "(3012,)"
      ]
     },
     "execution_count": 28,
     "metadata": {},
     "output_type": "execute_result"
    }
   ],
   "source": [
    "google.shape"
   ]
  },
  {
   "cell_type": "code",
   "execution_count": 29,
   "metadata": {},
   "outputs": [
    {
     "data": {
      "text/plain": [
       "3012"
      ]
     },
     "execution_count": 29,
     "metadata": {},
     "output_type": "execute_result"
    }
   ],
   "source": [
    "google.size"
   ]
  },
  {
   "cell_type": "code",
   "execution_count": 30,
   "metadata": {},
   "outputs": [
    {
     "data": {
      "text/plain": [
       "'Stock Price'"
      ]
     },
     "execution_count": 30,
     "metadata": {},
     "output_type": "execute_result"
    }
   ],
   "source": [
    "google.name"
   ]
  },
  {
   "cell_type": "code",
   "execution_count": 37,
   "metadata": {},
   "outputs": [
    {
     "data": {
      "text/plain": [
       "0    50.12\n",
       "1    54.10\n",
       "2    54.65\n",
       "3    52.38\n",
       "4    52.95\n",
       "Name: Price, dtype: float64"
      ]
     },
     "execution_count": 37,
     "metadata": {},
     "output_type": "execute_result"
    }
   ],
   "source": [
    "google.head()"
   ]
  },
  {
   "cell_type": "code",
   "execution_count": 35,
   "metadata": {},
   "outputs": [
    {
     "data": {
      "text/plain": [
       "0    50.12\n",
       "1    54.10\n",
       "2    54.65\n",
       "3    52.38\n",
       "4    52.95\n",
       "Name: Price, dtype: float64"
      ]
     },
     "execution_count": 35,
     "metadata": {},
     "output_type": "execute_result"
    }
   ],
   "source": [
    "google.name= 'Price'\n",
    "google.head()"
   ]
  },
  {
   "cell_type": "code",
   "execution_count": 38,
   "metadata": {},
   "outputs": [
    {
     "data": {
      "text/plain": [
       "459    Abomasnow\n",
       "62          Abra\n",
       "358        Absol\n",
       "616     Accelgor\n",
       "680    Aegislash\n",
       "Name: Pokemon, dtype: object"
      ]
     },
     "execution_count": 38,
     "metadata": {},
     "output_type": "execute_result"
    }
   ],
   "source": [
    "pokemon.sort_values().head()"
   ]
  },
  {
   "cell_type": "code",
   "execution_count": 39,
   "metadata": {},
   "outputs": [
    {
     "data": {
      "text/plain": [
       "680    Aegislash\n",
       "616     Accelgor\n",
       "358        Absol\n",
       "62          Abra\n",
       "459    Abomasnow\n",
       "Name: Pokemon, dtype: object"
      ]
     },
     "execution_count": 39,
     "metadata": {},
     "output_type": "execute_result"
    }
   ],
   "source": [
    "pokemon.sort_values(ascending=False).tail()"
   ]
  },
  {
   "cell_type": "code",
   "execution_count": 40,
   "metadata": {},
   "outputs": [
    {
     "data": {
      "text/plain": [
       "3011    782.22\n",
       "Name: Price, dtype: float64"
      ]
     },
     "execution_count": 40,
     "metadata": {},
     "output_type": "execute_result"
    }
   ],
   "source": [
    "google.sort_values(ascending=False).head(1)"
   ]
  },
  {
   "cell_type": "code",
   "execution_count": 41,
   "metadata": {},
   "outputs": [],
   "source": [
    "google.sort_values(ascending=False, inplace=True)"
   ]
  },
  {
   "cell_type": "code",
   "execution_count": 42,
   "metadata": {},
   "outputs": [
    {
     "data": {
      "text/plain": [
       "3011    782.22\n",
       "Name: Price, dtype: float64"
      ]
     },
     "execution_count": 42,
     "metadata": {},
     "output_type": "execute_result"
    }
   ],
   "source": [
    "google.head(1)"
   ]
  },
  {
   "cell_type": "code",
   "execution_count": 44,
   "metadata": {},
   "outputs": [
    {
     "data": {
      "text/plain": [
       "0    50.12\n",
       "1    54.10\n",
       "2    54.65\n",
       "3    52.38\n",
       "4    52.95\n",
       "Name: Price, dtype: float64"
      ]
     },
     "execution_count": 44,
     "metadata": {},
     "output_type": "execute_result"
    }
   ],
   "source": [
    "google.sort_index().head()"
   ]
  },
  {
   "cell_type": "code",
   "execution_count": 46,
   "metadata": {},
   "outputs": [
    {
     "data": {
      "text/plain": [
       "0    50.12\n",
       "1    54.10\n",
       "2    54.65\n",
       "3    52.38\n",
       "4    52.95\n",
       "Name: Price, dtype: float64"
      ]
     },
     "execution_count": 46,
     "metadata": {},
     "output_type": "execute_result"
    }
   ],
   "source": [
    "google.sort_index(inplace=True)\n",
    "google.head()"
   ]
  },
  {
   "cell_type": "code",
   "execution_count": 47,
   "metadata": {},
   "outputs": [
    {
     "data": {
      "text/plain": [
       "True"
      ]
     },
     "execution_count": 47,
     "metadata": {},
     "output_type": "execute_result"
    }
   ],
   "source": [
    "\"Bulbasaur\" in pokemon.values"
   ]
  },
  {
   "cell_type": "code",
   "execution_count": 49,
   "metadata": {},
   "outputs": [
    {
     "data": {
      "text/plain": [
       "'Electrode'"
      ]
     },
     "execution_count": 49,
     "metadata": {},
     "output_type": "execute_result"
    }
   ],
   "source": [
    "pokemon[100] # extract by index position"
   ]
  },
  {
   "cell_type": "code",
   "execution_count": 52,
   "metadata": {},
   "outputs": [
    {
     "data": {
      "text/plain": [
       "100    Electrode\n",
       "200        Unown\n",
       "300     Delcatty\n",
       "Name: Pokemon, dtype: object"
      ]
     },
     "execution_count": 52,
     "metadata": {},
     "output_type": "execute_result"
    }
   ],
   "source": [
    "pokemon[[100,200,300]]"
   ]
  },
  {
   "cell_type": "code",
   "execution_count": 53,
   "metadata": {},
   "outputs": [
    {
     "data": {
      "text/plain": [
       "50      Dugtrio\n",
       "51       Meowth\n",
       "52      Persian\n",
       "53      Psyduck\n",
       "54      Golduck\n",
       "55       Mankey\n",
       "56     Primeape\n",
       "57    Growlithe\n",
       "58     Arcanine\n",
       "59      Poliwag\n",
       "Name: Pokemon, dtype: object"
      ]
     },
     "execution_count": 53,
     "metadata": {},
     "output_type": "execute_result"
    }
   ],
   "source": [
    "pokemon[50:60]"
   ]
  },
  {
   "cell_type": "code",
   "execution_count": 54,
   "metadata": {},
   "outputs": [
    {
     "data": {
      "text/plain": [
       "0     Bulbasaur\n",
       "1       Ivysaur\n",
       "2      Venusaur\n",
       "3    Charmander\n",
       "4    Charmeleon\n",
       "5     Charizard\n",
       "6      Squirtle\n",
       "7     Wartortle\n",
       "8     Blastoise\n",
       "9      Caterpie\n",
       "Name: Pokemon, dtype: object"
      ]
     },
     "execution_count": 54,
     "metadata": {},
     "output_type": "execute_result"
    }
   ],
   "source": [
    "pokemon[:10]"
   ]
  },
  {
   "cell_type": "code",
   "execution_count": 55,
   "metadata": {},
   "outputs": [
    {
     "data": {
      "text/plain": [
       "701      Dedenne\n",
       "702      Carbink\n",
       "703        Goomy\n",
       "704      Sliggoo\n",
       "705       Goodra\n",
       "706       Klefki\n",
       "707     Phantump\n",
       "708    Trevenant\n",
       "709    Pumpkaboo\n",
       "710    Gourgeist\n",
       "711     Bergmite\n",
       "712      Avalugg\n",
       "713       Noibat\n",
       "714      Noivern\n",
       "715      Xerneas\n",
       "716      Yveltal\n",
       "717      Zygarde\n",
       "718      Diancie\n",
       "719        Hoopa\n",
       "720    Volcanion\n",
       "Name: Pokemon, dtype: object"
      ]
     },
     "execution_count": 55,
     "metadata": {},
     "output_type": "execute_result"
    }
   ],
   "source": [
    "pokemon[-20:]"
   ]
  },
  {
   "cell_type": "code",
   "execution_count": 56,
   "metadata": {},
   "outputs": [],
   "source": [
    "pokemon_indexed = pd.read_csv('pokemon.csv', index_col='Pokemon', squeeze=True)"
   ]
  },
  {
   "cell_type": "code",
   "execution_count": 57,
   "metadata": {},
   "outputs": [
    {
     "data": {
      "text/plain": [
       "Pokemon\n",
       "Bulbasaur       Grass\n",
       "Ivysaur         Grass\n",
       "Venusaur        Grass\n",
       "Charmander       Fire\n",
       "Charmeleon       Fire\n",
       "               ...   \n",
       "Yveltal          Dark\n",
       "Zygarde        Dragon\n",
       "Diancie          Rock\n",
       "Hoopa         Psychic\n",
       "Volcanion        Fire\n",
       "Name: Type, Length: 721, dtype: object"
      ]
     },
     "execution_count": 57,
     "metadata": {},
     "output_type": "execute_result"
    }
   ],
   "source": [
    "pokemon_indexed"
   ]
  },
  {
   "cell_type": "code",
   "execution_count": 61,
   "metadata": {},
   "outputs": [
    {
     "data": {
      "text/plain": [
       "'Electric'"
      ]
     },
     "execution_count": 61,
     "metadata": {},
     "output_type": "execute_result"
    }
   ],
   "source": [
    "pokemon_indexed[100]"
   ]
  },
  {
   "cell_type": "code",
   "execution_count": 62,
   "metadata": {},
   "outputs": [
    {
     "data": {
      "text/plain": [
       "'Psychic'"
      ]
     },
     "execution_count": 62,
     "metadata": {},
     "output_type": "execute_result"
    }
   ],
   "source": [
    "pokemon_indexed[200]"
   ]
  },
  {
   "cell_type": "code",
   "execution_count": 63,
   "metadata": {},
   "outputs": [
    {
     "data": {
      "text/plain": [
       "Pokemon\n",
       "Electrode    Electric\n",
       "Jolteon      Electric\n",
       "Name: Type, dtype: object"
      ]
     },
     "execution_count": 63,
     "metadata": {},
     "output_type": "execute_result"
    }
   ],
   "source": [
    "pokemon_indexed[[100,134]]"
   ]
  },
  {
   "cell_type": "code",
   "execution_count": 64,
   "metadata": {},
   "outputs": [
    {
     "data": {
      "text/plain": [
       "'Grass'"
      ]
     },
     "execution_count": 64,
     "metadata": {},
     "output_type": "execute_result"
    }
   ],
   "source": [
    "pokemon_indexed['Bulbasaur']"
   ]
  },
  {
   "cell_type": "code",
   "execution_count": 65,
   "metadata": {},
   "outputs": [
    {
     "data": {
      "text/plain": [
       "'Normal'"
      ]
     },
     "execution_count": 65,
     "metadata": {},
     "output_type": "execute_result"
    }
   ],
   "source": [
    "pokemon_indexed['Ditto']"
   ]
  },
  {
   "cell_type": "code",
   "execution_count": 66,
   "metadata": {},
   "outputs": [
    {
     "data": {
      "text/plain": [
       "Pokemon\n",
       "Charmander    Fire\n",
       "Charizard     Fire\n",
       "Name: Type, dtype: object"
      ]
     },
     "execution_count": 66,
     "metadata": {},
     "output_type": "execute_result"
    }
   ],
   "source": [
    "pokemon_indexed[['Charmander','Charizard']]"
   ]
  },
  {
   "cell_type": "code",
   "execution_count": 67,
   "metadata": {},
   "outputs": [
    {
     "data": {
      "text/plain": [
       "Pokemon\n",
       "Charmander     Fire\n",
       "Charmeleon     Fire\n",
       "Charizard      Fire\n",
       "Squirtle      Water\n",
       "Wartortle     Water\n",
       "Blastoise     Water\n",
       "Caterpie        Bug\n",
       "Metapod         Bug\n",
       "Butterfree      Bug\n",
       "Weedle          Bug\n",
       "Name: Type, dtype: object"
      ]
     },
     "execution_count": 67,
     "metadata": {},
     "output_type": "execute_result"
    }
   ],
   "source": [
    "pokemon_indexed['Charmander':'Weedle']"
   ]
  },
  {
   "cell_type": "code",
   "execution_count": 68,
   "metadata": {},
   "outputs": [
    {
     "data": {
      "text/plain": [
       "Pokemon\n",
       "Bulbasaur     Grass\n",
       "Ivysaur       Grass\n",
       "Venusaur      Grass\n",
       "Charmander     Fire\n",
       "Charmeleon     Fire\n",
       "Charizard      Fire\n",
       "Squirtle      Water\n",
       "Wartortle     Water\n",
       "Blastoise     Water\n",
       "Caterpie        Bug\n",
       "Metapod         Bug\n",
       "Butterfree      Bug\n",
       "Weedle          Bug\n",
       "Name: Type, dtype: object"
      ]
     },
     "execution_count": 68,
     "metadata": {},
     "output_type": "execute_result"
    }
   ],
   "source": [
    "pokemon_indexed[:\"Weedle\"]"
   ]
  },
  {
   "cell_type": "code",
   "execution_count": 69,
   "metadata": {},
   "outputs": [
    {
     "data": {
      "text/plain": [
       "Pokemon\n",
       "Charmander     Fire\n",
       "Charizard      Fire\n",
       "Wartortle     Water\n",
       "Caterpie        Bug\n",
       "Butterfree      Bug\n",
       "Name: Type, dtype: object"
      ]
     },
     "execution_count": 69,
     "metadata": {},
     "output_type": "execute_result"
    }
   ],
   "source": [
    "pokemon_indexed['Charmander':'Weedle':2]"
   ]
  },
  {
   "cell_type": "code",
   "execution_count": 72,
   "metadata": {},
   "outputs": [
    {
     "data": {
      "text/plain": [
       "Pokemon\n",
       "Pikachu    Electric\n",
       "Digimon         NaN\n",
       "Name: Type, dtype: object"
      ]
     },
     "execution_count": 72,
     "metadata": {},
     "output_type": "execute_result"
    }
   ],
   "source": [
    "#pokemon_indexed[['Pikachu','Digimon']]  error, all keys should exist\n",
    "pokemon_indexed.reindex(index=['Pikachu','Digimon'])"
   ]
  },
  {
   "cell_type": "code",
   "execution_count": 74,
   "metadata": {},
   "outputs": [
    {
     "data": {
      "text/plain": [
       "Pokemon\n",
       "Abomasnow      Grass\n",
       "Abra         Psychic\n",
       "Absol           Dark\n",
       "Name: Type, dtype: object"
      ]
     },
     "execution_count": 74,
     "metadata": {},
     "output_type": "execute_result"
    }
   ],
   "source": [
    "pokemon_indexed.sort_index(inplace=True)\n",
    "pokemon_indexed.head(3)"
   ]
  },
  {
   "cell_type": "code",
   "execution_count": 76,
   "metadata": {},
   "outputs": [
    {
     "data": {
      "text/plain": [
       "'Grass'"
      ]
     },
     "execution_count": 76,
     "metadata": {},
     "output_type": "execute_result"
    }
   ],
   "source": [
    "pokemon_indexed.get(0)"
   ]
  },
  {
   "cell_type": "code",
   "execution_count": 77,
   "metadata": {},
   "outputs": [
    {
     "data": {
      "text/plain": [
       "'Fire'"
      ]
     },
     "execution_count": 77,
     "metadata": {},
     "output_type": "execute_result"
    }
   ],
   "source": [
    "pokemon_indexed.get('Moltres')"
   ]
  },
  {
   "cell_type": "code",
   "execution_count": 78,
   "metadata": {},
   "outputs": [
    {
     "data": {
      "text/plain": [
       "Pokemon\n",
       "Abomasnow     Grass\n",
       "Aerodactyl     Rock\n",
       "Name: Type, dtype: object"
      ]
     },
     "execution_count": 78,
     "metadata": {},
     "output_type": "execute_result"
    }
   ],
   "source": [
    "pokemon_indexed.get([0,5])"
   ]
  },
  {
   "cell_type": "code",
   "execution_count": 80,
   "metadata": {},
   "outputs": [],
   "source": [
    "pokemon_indexed.get(1000)"
   ]
  },
  {
   "cell_type": "code",
   "execution_count": 82,
   "metadata": {},
   "outputs": [],
   "source": [
    "pokemon_indexed.get('Digimon')\n",
    "pokemon_indexed.get(['Pikacho', 'Digimon'])"
   ]
  },
  {
   "cell_type": "code",
   "execution_count": 84,
   "metadata": {},
   "outputs": [
    {
     "data": {
      "text/plain": [
       "'not a pokemon'"
      ]
     },
     "execution_count": 84,
     "metadata": {},
     "output_type": "execute_result"
    }
   ],
   "source": [
    "pokemon_indexed.get('Digimon', default=\"not a pokemon\")"
   ]
  },
  {
   "cell_type": "code",
   "execution_count": 85,
   "metadata": {},
   "outputs": [
    {
     "data": {
      "text/plain": [
       "'not a pokemon'"
      ]
     },
     "execution_count": 85,
     "metadata": {},
     "output_type": "execute_result"
    }
   ],
   "source": [
    "pokemon_indexed.get(['Pikachu', 'Digimon'], default='not a pokemon')"
   ]
  },
  {
   "cell_type": "code",
   "execution_count": 87,
   "metadata": {},
   "outputs": [],
   "source": [
    "google = pd.read_csv('google_stock_price.csv', squeeze = True)"
   ]
  },
  {
   "cell_type": "code",
   "execution_count": 89,
   "metadata": {},
   "outputs": [
    {
     "data": {
      "text/plain": [
       "3012"
      ]
     },
     "execution_count": 89,
     "metadata": {},
     "output_type": "execute_result"
    }
   ],
   "source": [
    "google.count() # skip missing values"
   ]
  },
  {
   "cell_type": "code",
   "execution_count": 90,
   "metadata": {},
   "outputs": [
    {
     "data": {
      "text/plain": [
       "1006942.0"
      ]
     },
     "execution_count": 90,
     "metadata": {},
     "output_type": "execute_result"
    }
   ],
   "source": [
    "google.sum()"
   ]
  },
  {
   "cell_type": "code",
   "execution_count": 91,
   "metadata": {},
   "outputs": [
    {
     "data": {
      "text/plain": [
       "334.31009296148744"
      ]
     },
     "execution_count": 91,
     "metadata": {},
     "output_type": "execute_result"
    }
   ],
   "source": [
    "google.mean()"
   ]
  },
  {
   "cell_type": "code",
   "execution_count": 92,
   "metadata": {},
   "outputs": [
    {
     "data": {
      "text/plain": [
       "173.18720477113106"
      ]
     },
     "execution_count": 92,
     "metadata": {},
     "output_type": "execute_result"
    }
   ],
   "source": [
    "google.std()"
   ]
  },
  {
   "cell_type": "code",
   "execution_count": 93,
   "metadata": {},
   "outputs": [
    {
     "data": {
      "text/plain": [
       "49.95"
      ]
     },
     "execution_count": 93,
     "metadata": {},
     "output_type": "execute_result"
    }
   ],
   "source": [
    "google.min()"
   ]
  },
  {
   "cell_type": "code",
   "execution_count": 94,
   "metadata": {},
   "outputs": [
    {
     "data": {
      "text/plain": [
       "782.22"
      ]
     },
     "execution_count": 94,
     "metadata": {},
     "output_type": "execute_result"
    }
   ],
   "source": [
    "google.max()"
   ]
  },
  {
   "cell_type": "code",
   "execution_count": 95,
   "metadata": {},
   "outputs": [
    {
     "data": {
      "text/plain": [
       "283.315"
      ]
     },
     "execution_count": 95,
     "metadata": {},
     "output_type": "execute_result"
    }
   ],
   "source": [
    "google.median()"
   ]
  },
  {
   "cell_type": "code",
   "execution_count": 96,
   "metadata": {},
   "outputs": [
    {
     "data": {
      "text/plain": [
       "0    291.21\n",
       "dtype: float64"
      ]
     },
     "execution_count": 96,
     "metadata": {},
     "output_type": "execute_result"
    }
   ],
   "source": [
    "google.mode()"
   ]
  },
  {
   "cell_type": "code",
   "execution_count": 97,
   "metadata": {},
   "outputs": [
    {
     "data": {
      "text/plain": [
       "count    3012.000000\n",
       "mean      334.310093\n",
       "std       173.187205\n",
       "min        49.950000\n",
       "25%       218.045000\n",
       "50%       283.315000\n",
       "75%       443.000000\n",
       "max       782.220000\n",
       "Name: Stock Price, dtype: float64"
      ]
     },
     "execution_count": 97,
     "metadata": {},
     "output_type": "execute_result"
    }
   ],
   "source": [
    "google.describe()"
   ]
  },
  {
   "cell_type": "code",
   "execution_count": 99,
   "metadata": {},
   "outputs": [
    {
     "data": {
      "text/plain": [
       "3011"
      ]
     },
     "execution_count": 99,
     "metadata": {},
     "output_type": "execute_result"
    }
   ],
   "source": [
    "google.idxmax() # return the index that store the max value"
   ]
  },
  {
   "cell_type": "code",
   "execution_count": 100,
   "metadata": {},
   "outputs": [
    {
     "data": {
      "text/plain": [
       "11"
      ]
     },
     "execution_count": 100,
     "metadata": {},
     "output_type": "execute_result"
    }
   ],
   "source": [
    "google.idxmin()"
   ]
  },
  {
   "cell_type": "code",
   "execution_count": 101,
   "metadata": {},
   "outputs": [
    {
     "data": {
      "text/plain": [
       "49.95"
      ]
     },
     "execution_count": 101,
     "metadata": {},
     "output_type": "execute_result"
    }
   ],
   "source": [
    "google[11]"
   ]
  },
  {
   "cell_type": "code",
   "execution_count": 102,
   "metadata": {},
   "outputs": [
    {
     "data": {
      "text/plain": [
       "782.22"
      ]
     },
     "execution_count": 102,
     "metadata": {},
     "output_type": "execute_result"
    }
   ],
   "source": [
    "google[google.idxmax()]"
   ]
  },
  {
   "cell_type": "code",
   "execution_count": 105,
   "metadata": {},
   "outputs": [
    {
     "data": {
      "text/plain": [
       "Water       105\n",
       "Normal       93\n",
       "Grass        66\n",
       "Bug          63\n",
       "Fire         47\n",
       "Psychic      47\n",
       "Rock         41\n",
       "Electric     36\n",
       "Ground       30\n",
       "Poison       28\n",
       "Dark         28\n",
       "Fighting     25\n",
       "Dragon       24\n",
       "Ice          23\n",
       "Ghost        23\n",
       "Steel        22\n",
       "Fairy        17\n",
       "Flying        3\n",
       "Name: Type, dtype: int64"
      ]
     },
     "execution_count": 105,
     "metadata": {},
     "output_type": "execute_result"
    }
   ],
   "source": [
    "pokemon_indexed.value_counts() #count occurrences of same value"
   ]
  },
  {
   "cell_type": "code",
   "execution_count": 107,
   "metadata": {},
   "outputs": [
    {
     "data": {
      "text/plain": [
       "Flying        3\n",
       "Fairy        17\n",
       "Steel        22\n",
       "Ghost        23\n",
       "Ice          23\n",
       "Dragon       24\n",
       "Fighting     25\n",
       "Dark         28\n",
       "Poison       28\n",
       "Ground       30\n",
       "Electric     36\n",
       "Rock         41\n",
       "Psychic      47\n",
       "Fire         47\n",
       "Bug          63\n",
       "Grass        66\n",
       "Normal       93\n",
       "Water       105\n",
       "Name: Type, dtype: int64"
      ]
     },
     "execution_count": 107,
     "metadata": {},
     "output_type": "execute_result"
    }
   ],
   "source": [
    "pokemon_indexed.value_counts(ascending=True)"
   ]
  },
  {
   "cell_type": "code",
   "execution_count": 108,
   "metadata": {},
   "outputs": [
    {
     "data": {
      "text/plain": [
       "0        51.12\n",
       "1        55.10\n",
       "2        55.65\n",
       "3        53.38\n",
       "4        53.95\n",
       "         ...  \n",
       "3007    773.88\n",
       "3008    772.07\n",
       "3009    774.18\n",
       "3010    772.61\n",
       "3011    783.22\n",
       "Name: Stock Price, Length: 3012, dtype: float64"
      ]
     },
     "execution_count": 108,
     "metadata": {},
     "output_type": "execute_result"
    }
   ],
   "source": [
    "google.apply(lambda x: x + 1)"
   ]
  },
  {
   "cell_type": "code",
   "execution_count": 109,
   "metadata": {},
   "outputs": [
    {
     "data": {
      "text/plain": [
       "0    50.12\n",
       "1    54.10\n",
       "2    54.65\n",
       "3    52.38\n",
       "4    52.95\n",
       "5    53.90\n",
       "Name: Stock Price, dtype: float64"
      ]
     },
     "execution_count": 109,
     "metadata": {},
     "output_type": "execute_result"
    }
   ],
   "source": [
    "google.head(6)"
   ]
  },
  {
   "cell_type": "code",
   "execution_count": 111,
   "metadata": {},
   "outputs": [
    {
     "data": {
      "text/plain": [
       "0    Bulbasaur\n",
       "1      Ivysaur\n",
       "2     Venusaur\n",
       "Name: Pokemon, dtype: object"
      ]
     },
     "execution_count": 111,
     "metadata": {},
     "output_type": "execute_result"
    }
   ],
   "source": [
    "pokemon_names = pd.read_csv('pokemon.csv', usecols=['Pokemon'], squeeze=True)\n",
    "pokemon_names.head(3)"
   ]
  },
  {
   "cell_type": "code",
   "execution_count": 112,
   "metadata": {},
   "outputs": [],
   "source": [
    "pokemon_types = pokemon_indexed.copy()"
   ]
  },
  {
   "cell_type": "code",
   "execution_count": 113,
   "metadata": {},
   "outputs": [
    {
     "data": {
      "text/plain": [
       "0        Grass\n",
       "1        Grass\n",
       "2        Grass\n",
       "3         Fire\n",
       "4         Fire\n",
       "        ...   \n",
       "716       Dark\n",
       "717     Dragon\n",
       "718       Rock\n",
       "719    Psychic\n",
       "720       Fire\n",
       "Name: Pokemon, Length: 721, dtype: object"
      ]
     },
     "execution_count": 113,
     "metadata": {},
     "output_type": "execute_result"
    }
   ],
   "source": [
    "pokemon_names.map(pokemon_types)"
   ]
  },
  {
   "cell_type": "code",
   "execution_count": 114,
   "metadata": {},
   "outputs": [],
   "source": [
    "pokemon_types = pokemon_indexed.to_dict()"
   ]
  },
  {
   "cell_type": "code",
   "execution_count": 115,
   "metadata": {
    "collapsed": true
   },
   "outputs": [
    {
     "data": {
      "text/plain": [
       "{'Abomasnow': 'Grass',\n",
       " 'Abra': 'Psychic',\n",
       " 'Absol': 'Dark',\n",
       " 'Accelgor': 'Bug',\n",
       " 'Aegislash': 'Steel',\n",
       " 'Aerodactyl': 'Rock',\n",
       " 'Aggron': 'Steel',\n",
       " 'Aipom': 'Normal',\n",
       " 'Alakazam': 'Psychic',\n",
       " 'Alomomola': 'Water',\n",
       " 'Altaria': 'Dragon',\n",
       " 'Amaura': 'Rock',\n",
       " 'Ambipom': 'Normal',\n",
       " 'Amoonguss': 'Grass',\n",
       " 'Ampharos': 'Electric',\n",
       " 'Anorith': 'Rock',\n",
       " 'Arbok': 'Poison',\n",
       " 'Arcanine': 'Fire',\n",
       " 'Arceus': 'Normal',\n",
       " 'Archen': 'Rock',\n",
       " 'Archeops': 'Rock',\n",
       " 'Ariados': 'Bug',\n",
       " 'Armaldo': 'Rock',\n",
       " 'Aromatisse': 'Fairy',\n",
       " 'Aron': 'Steel',\n",
       " 'Articuno': 'Ice',\n",
       " 'Audino': 'Normal',\n",
       " 'Aurorus': 'Rock',\n",
       " 'Avalugg': 'Ice',\n",
       " 'Axew': 'Dragon',\n",
       " 'Azelf': 'Psychic',\n",
       " 'Azumarill': 'Water',\n",
       " 'Azurill': 'Normal',\n",
       " 'Bagon': 'Dragon',\n",
       " 'Baltoy': 'Ground',\n",
       " 'Banette': 'Ghost',\n",
       " 'Barbaracle': 'Rock',\n",
       " 'Barboach': 'Water',\n",
       " 'Basculin': 'Water',\n",
       " 'Bastiodon': 'Rock',\n",
       " 'Bayleef': 'Grass',\n",
       " 'Beartic': 'Ice',\n",
       " 'Beautifly': 'Bug',\n",
       " 'Beedrill': 'Bug',\n",
       " 'Beheeyem': 'Psychic',\n",
       " 'Beldum': 'Steel',\n",
       " 'Bellossom': 'Grass',\n",
       " 'Bellsprout': 'Grass',\n",
       " 'Bergmite': 'Ice',\n",
       " 'Bibarel': 'Normal',\n",
       " 'Bidoof': 'Normal',\n",
       " 'Binacle': 'Rock',\n",
       " 'Bisharp': 'Dark',\n",
       " 'Blastoise': 'Water',\n",
       " 'Blaziken': 'Fire',\n",
       " 'Blissey': 'Normal',\n",
       " 'Blitzle': 'Electric',\n",
       " 'Boldore': 'Rock',\n",
       " 'Bonsly': 'Rock',\n",
       " 'Bouffalant': 'Normal',\n",
       " 'Braixen': 'Fire',\n",
       " 'Braviary': 'Normal',\n",
       " 'Breloom': 'Grass',\n",
       " 'Bronzong': 'Steel',\n",
       " 'Bronzor': 'Steel',\n",
       " 'Budew': 'Grass',\n",
       " 'Buizel': 'Water',\n",
       " 'Bulbasaur': 'Grass',\n",
       " 'Buneary': 'Normal',\n",
       " 'Bunnelby': 'Normal',\n",
       " 'Burmy': 'Bug',\n",
       " 'Butterfree': 'Bug',\n",
       " 'Cacnea': 'Grass',\n",
       " 'Cacturne': 'Grass',\n",
       " 'Camerupt': 'Fire',\n",
       " 'Carbink': 'Rock',\n",
       " 'Carnivine': 'Grass',\n",
       " 'Carracosta': 'Water',\n",
       " 'Carvanha': 'Water',\n",
       " 'Cascoon': 'Bug',\n",
       " 'Castform': 'Normal',\n",
       " 'Caterpie': 'Bug',\n",
       " 'Celebi': 'Psychic',\n",
       " 'Chandelure': 'Ghost',\n",
       " 'Chansey': 'Normal',\n",
       " 'Charizard': 'Fire',\n",
       " 'Charmander': 'Fire',\n",
       " 'Charmeleon': 'Fire',\n",
       " 'Chatot': 'Normal',\n",
       " 'Cherrim': 'Grass',\n",
       " 'Cherubi': 'Grass',\n",
       " 'Chesnaught': 'Grass',\n",
       " 'Chespin': 'Grass',\n",
       " 'Chikorita': 'Grass',\n",
       " 'Chimchar': 'Fire',\n",
       " 'Chimecho': 'Psychic',\n",
       " 'Chinchou': 'Water',\n",
       " 'Chingling': 'Psychic',\n",
       " 'Cinccino': 'Normal',\n",
       " 'Clamperl': 'Water',\n",
       " 'Clauncher': 'Water',\n",
       " 'Clawitzer': 'Water',\n",
       " 'Claydol': 'Ground',\n",
       " 'Clefable': 'Fairy',\n",
       " 'Clefairy': 'Fairy',\n",
       " 'Cleffa': 'Fairy',\n",
       " 'Cloyster': 'Water',\n",
       " 'Cobalion': 'Steel',\n",
       " 'Cofagrigus': 'Ghost',\n",
       " 'Combee': 'Bug',\n",
       " 'Combusken': 'Fire',\n",
       " 'Conkeldurr': 'Fighting',\n",
       " 'Corphish': 'Water',\n",
       " 'Corsola': 'Water',\n",
       " 'Cottonee': 'Grass',\n",
       " 'Cradily': 'Rock',\n",
       " 'Cranidos': 'Rock',\n",
       " 'Crawdaunt': 'Water',\n",
       " 'Cresselia': 'Psychic',\n",
       " 'Croagunk': 'Poison',\n",
       " 'Crobat': 'Poison',\n",
       " 'Croconaw': 'Water',\n",
       " 'Crustle': 'Bug',\n",
       " 'Cryogonal': 'Ice',\n",
       " 'Cubchoo': 'Ice',\n",
       " 'Cubone': 'Ground',\n",
       " 'Cyndaquil': 'Fire',\n",
       " 'Darkrai': 'Dark',\n",
       " 'Darmanitan': 'Fire',\n",
       " 'Darumaka': 'Fire',\n",
       " 'Dedenne': 'Electric',\n",
       " 'Deerling': 'Normal',\n",
       " 'Deino': 'Dark',\n",
       " 'Delcatty': 'Normal',\n",
       " 'Delibird': 'Ice',\n",
       " 'Delphox': 'Fire',\n",
       " 'Deoxys': 'Psychic',\n",
       " 'Dewgong': 'Water',\n",
       " 'Dewott': 'Water',\n",
       " 'Dialga': 'Steel',\n",
       " 'Diancie': 'Rock',\n",
       " 'Diggersby': 'Normal',\n",
       " 'Diglett': 'Ground',\n",
       " 'Ditto': 'Normal',\n",
       " 'Dodrio': 'Normal',\n",
       " 'Doduo': 'Normal',\n",
       " 'Donphan': 'Ground',\n",
       " 'Doublade': 'Steel',\n",
       " 'Dragalge': 'Poison',\n",
       " 'Dragonair': 'Dragon',\n",
       " 'Dragonite': 'Dragon',\n",
       " 'Drapion': 'Poison',\n",
       " 'Dratini': 'Dragon',\n",
       " 'Drifblim': 'Ghost',\n",
       " 'Drifloon': 'Ghost',\n",
       " 'Drilbur': 'Ground',\n",
       " 'Drowzee': 'Psychic',\n",
       " 'Druddigon': 'Dragon',\n",
       " 'Ducklett': 'Water',\n",
       " 'Dugtrio': 'Ground',\n",
       " 'Dunsparce': 'Normal',\n",
       " 'Duosion': 'Psychic',\n",
       " 'Durant': 'Bug',\n",
       " 'Dusclops': 'Ghost',\n",
       " 'Dusknoir': 'Ghost',\n",
       " 'Duskull': 'Ghost',\n",
       " 'Dustox': 'Bug',\n",
       " 'Dwebble': 'Bug',\n",
       " 'Eelektrik': 'Electric',\n",
       " 'Eelektross': 'Electric',\n",
       " 'Eevee': 'Normal',\n",
       " 'Ekans': 'Poison',\n",
       " 'Electabuzz': 'Electric',\n",
       " 'Electivire': 'Electric',\n",
       " 'Electrike': 'Electric',\n",
       " 'Electrode': 'Electric',\n",
       " 'Elekid': 'Electric',\n",
       " 'Elgyem': 'Psychic',\n",
       " 'Emboar': 'Fire',\n",
       " 'Emolga': 'Electric',\n",
       " 'Empoleon': 'Water',\n",
       " 'Entei': 'Fire',\n",
       " 'Escavalier': 'Bug',\n",
       " 'Espeon': 'Psychic',\n",
       " 'Espurr': 'Psychic',\n",
       " 'Excadrill': 'Ground',\n",
       " 'Exeggcute': 'Grass',\n",
       " 'Exeggutor': 'Grass',\n",
       " 'Exploud': 'Normal',\n",
       " \"Farfetch'd\": 'Normal',\n",
       " 'Fearow': 'Normal',\n",
       " 'Feebas': 'Water',\n",
       " 'Fennekin': 'Fire',\n",
       " 'Feraligatr': 'Water',\n",
       " 'Ferroseed': 'Grass',\n",
       " 'Ferrothorn': 'Grass',\n",
       " 'Finneon': 'Water',\n",
       " 'Flaaffy': 'Electric',\n",
       " 'Flabébé': 'Fairy',\n",
       " 'Flareon': 'Fire',\n",
       " 'Fletchinder': 'Fire',\n",
       " 'Fletchling': 'Normal',\n",
       " 'Floatzel': 'Water',\n",
       " 'Floette': 'Fairy',\n",
       " 'Florges': 'Fairy',\n",
       " 'Flygon': 'Ground',\n",
       " 'Foongus': 'Grass',\n",
       " 'Forretress': 'Bug',\n",
       " 'Fraxure': 'Dragon',\n",
       " 'Frillish': 'Water',\n",
       " 'Froakie': 'Water',\n",
       " 'Frogadier': 'Water',\n",
       " 'Froslass': 'Ice',\n",
       " 'Furfrou': 'Normal',\n",
       " 'Furret': 'Normal',\n",
       " 'Gabite': 'Dragon',\n",
       " 'Gallade': 'Psychic',\n",
       " 'Galvantula': 'Bug',\n",
       " 'Garbodor': 'Poison',\n",
       " 'Garchomp': 'Dragon',\n",
       " 'Gardevoir': 'Psychic',\n",
       " 'Gastly': 'Ghost',\n",
       " 'Gastrodon': 'Water',\n",
       " 'Genesect': 'Bug',\n",
       " 'Gengar': 'Ghost',\n",
       " 'Geodude': 'Rock',\n",
       " 'Gible': 'Dragon',\n",
       " 'Gigalith': 'Rock',\n",
       " 'Girafarig': 'Normal',\n",
       " 'Giratina': 'Ghost',\n",
       " 'Glaceon': 'Ice',\n",
       " 'Glalie': 'Ice',\n",
       " 'Glameow': 'Normal',\n",
       " 'Gligar': 'Ground',\n",
       " 'Gliscor': 'Ground',\n",
       " 'Gloom': 'Grass',\n",
       " 'Gogoat': 'Grass',\n",
       " 'Golbat': 'Poison',\n",
       " 'Goldeen': 'Water',\n",
       " 'Golduck': 'Water',\n",
       " 'Golem': 'Rock',\n",
       " 'Golett': 'Ground',\n",
       " 'Golurk': 'Ground',\n",
       " 'Goodra': 'Dragon',\n",
       " 'Goomy': 'Dragon',\n",
       " 'Gorebyss': 'Water',\n",
       " 'Gothita': 'Psychic',\n",
       " 'Gothitelle': 'Psychic',\n",
       " 'Gothorita': 'Psychic',\n",
       " 'Gourgeist': 'Ghost',\n",
       " 'Granbull': 'Fairy',\n",
       " 'Graveler': 'Rock',\n",
       " 'Greninja': 'Water',\n",
       " 'Grimer': 'Poison',\n",
       " 'Grotle': 'Grass',\n",
       " 'Groudon': 'Ground',\n",
       " 'Grovyle': 'Grass',\n",
       " 'Growlithe': 'Fire',\n",
       " 'Grumpig': 'Psychic',\n",
       " 'Gulpin': 'Poison',\n",
       " 'Gurdurr': 'Fighting',\n",
       " 'Gyarados': 'Water',\n",
       " 'Happiny': 'Normal',\n",
       " 'Hariyama': 'Fighting',\n",
       " 'Haunter': 'Ghost',\n",
       " 'Hawlucha': 'Fighting',\n",
       " 'Haxorus': 'Dragon',\n",
       " 'Heatmor': 'Fire',\n",
       " 'Heatran': 'Fire',\n",
       " 'Heliolisk': 'Electric',\n",
       " 'Helioptile': 'Electric',\n",
       " 'Heracross': 'Bug',\n",
       " 'Herdier': 'Normal',\n",
       " 'Hippopotas': 'Ground',\n",
       " 'Hippowdon': 'Ground',\n",
       " 'Hitmonchan': 'Fighting',\n",
       " 'Hitmonlee': 'Fighting',\n",
       " 'Hitmontop': 'Fighting',\n",
       " 'Ho-oh': 'Fire',\n",
       " 'Honchkrow': 'Dark',\n",
       " 'Honedge': 'Steel',\n",
       " 'Hoopa': 'Psychic',\n",
       " 'Hoothoot': 'Normal',\n",
       " 'Hoppip': 'Grass',\n",
       " 'Horsea': 'Water',\n",
       " 'Houndoom': 'Dark',\n",
       " 'Houndour': 'Dark',\n",
       " 'Huntail': 'Water',\n",
       " 'Hydreigon': 'Dark',\n",
       " 'Hypno': 'Psychic',\n",
       " 'Igglybuff': 'Normal',\n",
       " 'Illumise': 'Bug',\n",
       " 'Infernape': 'Fire',\n",
       " 'Inkay': 'Dark',\n",
       " 'Ivysaur': 'Grass',\n",
       " 'Jellicent': 'Water',\n",
       " 'Jigglypuff': 'Normal',\n",
       " 'Jirachi': 'Steel',\n",
       " 'Jolteon': 'Electric',\n",
       " 'Joltik': 'Bug',\n",
       " 'Jumpluff': 'Grass',\n",
       " 'Jynx': 'Ice',\n",
       " 'Kabuto': 'Rock',\n",
       " 'Kabutops': 'Rock',\n",
       " 'Kadabra': 'Psychic',\n",
       " 'Kakuna': 'Bug',\n",
       " 'Kangaskhan': 'Normal',\n",
       " 'Karrablast': 'Bug',\n",
       " 'Kecleon': 'Normal',\n",
       " 'Keldeo': 'Water',\n",
       " 'Kingdra': 'Water',\n",
       " 'Kingler': 'Water',\n",
       " 'Kirlia': 'Psychic',\n",
       " 'Klang': 'Steel',\n",
       " 'Klefki': 'Steel',\n",
       " 'Klink': 'Steel',\n",
       " 'Klinklang': 'Steel',\n",
       " 'Koffing': 'Poison',\n",
       " 'Krabby': 'Water',\n",
       " 'Kricketot': 'Bug',\n",
       " 'Kricketune': 'Bug',\n",
       " 'Krokorok': 'Ground',\n",
       " 'Krookodile': 'Ground',\n",
       " 'Kyogre': 'Water',\n",
       " 'Kyurem': 'Dragon',\n",
       " 'Lairon': 'Steel',\n",
       " 'Lampent': 'Ghost',\n",
       " 'Landorus': 'Ground',\n",
       " 'Lanturn': 'Water',\n",
       " 'Lapras': 'Water',\n",
       " 'Larvesta': 'Bug',\n",
       " 'Larvitar': 'Rock',\n",
       " 'Latias': 'Dragon',\n",
       " 'Latios': 'Dragon',\n",
       " 'Leafeon': 'Grass',\n",
       " 'Leavanny': 'Bug',\n",
       " 'Ledian': 'Bug',\n",
       " 'Ledyba': 'Bug',\n",
       " 'Lickilicky': 'Normal',\n",
       " 'Lickitung': 'Normal',\n",
       " 'Liepard': 'Dark',\n",
       " 'Lileep': 'Rock',\n",
       " 'Lilligant': 'Grass',\n",
       " 'Lillipup': 'Normal',\n",
       " 'Linoone': 'Normal',\n",
       " 'Litleo': 'Fire',\n",
       " 'Litwick': 'Ghost',\n",
       " 'Lombre': 'Water',\n",
       " 'Lopunny': 'Normal',\n",
       " 'Lotad': 'Water',\n",
       " 'Loudred': 'Normal',\n",
       " 'Lucario': 'Fighting',\n",
       " 'Ludicolo': 'Water',\n",
       " 'Lugia': 'Psychic',\n",
       " 'Lumineon': 'Water',\n",
       " 'Lunatone': 'Rock',\n",
       " 'Luvdisc': 'Water',\n",
       " 'Luxio': 'Electric',\n",
       " 'Luxray': 'Electric',\n",
       " 'Machamp': 'Fighting',\n",
       " 'Machoke': 'Fighting',\n",
       " 'Machop': 'Fighting',\n",
       " 'Magby': 'Fire',\n",
       " 'Magcargo': 'Fire',\n",
       " 'Magikarp': 'Water',\n",
       " 'Magmar': 'Fire',\n",
       " 'Magmortar': 'Fire',\n",
       " 'Magnemite': 'Electric',\n",
       " 'Magneton': 'Electric',\n",
       " 'Magnezone': 'Electric',\n",
       " 'Makuhita': 'Fighting',\n",
       " 'Malamar': 'Dark',\n",
       " 'Mamoswine': 'Ice',\n",
       " 'Manaphy': 'Water',\n",
       " 'Mandibuzz': 'Dark',\n",
       " 'Manectric': 'Electric',\n",
       " 'Mankey': 'Fighting',\n",
       " 'Mantine': 'Water',\n",
       " 'Mantyke': 'Water',\n",
       " 'Maractus': 'Grass',\n",
       " 'Mareep': 'Electric',\n",
       " 'Marill': 'Water',\n",
       " 'Marowak': 'Ground',\n",
       " 'Marshtomp': 'Water',\n",
       " 'Masquerain': 'Bug',\n",
       " 'Mawile': 'Steel',\n",
       " 'Medicham': 'Fighting',\n",
       " 'Meditite': 'Fighting',\n",
       " 'Meganium': 'Grass',\n",
       " 'Meloetta': 'Normal',\n",
       " 'Meowstic': 'Psychic',\n",
       " 'Meowth': 'Normal',\n",
       " 'Mesprit': 'Psychic',\n",
       " 'Metagross': 'Steel',\n",
       " 'Metang': 'Steel',\n",
       " 'Metapod': 'Bug',\n",
       " 'Mew': 'Psychic',\n",
       " 'Mewtwo': 'Psychic',\n",
       " 'Mienfoo': 'Fighting',\n",
       " 'Mienshao': 'Fighting',\n",
       " 'Mightyena': 'Dark',\n",
       " 'Milotic': 'Water',\n",
       " 'Miltank': 'Normal',\n",
       " 'Mime Jr.': 'Psychic',\n",
       " 'Minccino': 'Normal',\n",
       " 'Minun': 'Electric',\n",
       " 'Misdreavus': 'Ghost',\n",
       " 'Mismagius': 'Ghost',\n",
       " 'Moltres': 'Fire',\n",
       " 'Monferno': 'Fire',\n",
       " 'Mothim': 'Bug',\n",
       " 'Mr. Mime': 'Psychic',\n",
       " 'Mudkip': 'Water',\n",
       " 'Muk': 'Poison',\n",
       " 'Munchlax': 'Normal',\n",
       " 'Munna': 'Psychic',\n",
       " 'Murkrow': 'Dark',\n",
       " 'Musharna': 'Psychic',\n",
       " 'Natu': 'Psychic',\n",
       " 'Nidoking': 'Poison',\n",
       " 'Nidoqueen': 'Poison',\n",
       " 'Nidoran': 'Poison',\n",
       " 'Nidoran♂': 'Poison',\n",
       " 'Nidorina': 'Poison',\n",
       " 'Nidorino': 'Poison',\n",
       " 'Nincada': 'Bug',\n",
       " 'Ninetales': 'Fire',\n",
       " 'Ninjask': 'Bug',\n",
       " 'Noctowl': 'Normal',\n",
       " 'Noibat': 'Flying',\n",
       " 'Noivern': 'Flying',\n",
       " 'Nosepass': 'Rock',\n",
       " 'Numel': 'Fire',\n",
       " 'Nuzleaf': 'Grass',\n",
       " 'Octillery': 'Water',\n",
       " 'Oddish': 'Grass',\n",
       " 'Omanyte': 'Rock',\n",
       " 'Omastar': 'Rock',\n",
       " 'Onix': 'Rock',\n",
       " 'Oshawott': 'Water',\n",
       " 'Pachirisu': 'Electric',\n",
       " 'Palkia': 'Water',\n",
       " 'Palpitoad': 'Water',\n",
       " 'Pancham': 'Fighting',\n",
       " 'Pangoro': 'Fighting',\n",
       " 'Panpour': 'Water',\n",
       " 'Pansage': 'Grass',\n",
       " 'Pansear': 'Fire',\n",
       " 'Paras': 'Bug',\n",
       " 'Parasect': 'Bug',\n",
       " 'Patrat': 'Normal',\n",
       " 'Pawniard': 'Dark',\n",
       " 'Pelipper': 'Water',\n",
       " 'Persian': 'Normal',\n",
       " 'Petilil': 'Grass',\n",
       " 'Phanpy': 'Ground',\n",
       " 'Phantump': 'Ghost',\n",
       " 'Phione': 'Water',\n",
       " 'Pichu': 'Electric',\n",
       " 'Pidgeot': 'Normal',\n",
       " 'Pidgeotto': 'Normal',\n",
       " 'Pidgey': 'Normal',\n",
       " 'Pidove': 'Normal',\n",
       " 'Pignite': 'Fire',\n",
       " 'Pikachu': 'Electric',\n",
       " 'Piloswine': 'Ice',\n",
       " 'Pineco': 'Bug',\n",
       " 'Pinsir': 'Bug',\n",
       " 'Piplup': 'Water',\n",
       " 'Plusle': 'Electric',\n",
       " 'Politoed': 'Water',\n",
       " 'Poliwag': 'Water',\n",
       " 'Poliwhirl': 'Water',\n",
       " 'Poliwrath': 'Water',\n",
       " 'Ponyta': 'Fire',\n",
       " 'Poochyena': 'Dark',\n",
       " 'Porygon': 'Normal',\n",
       " 'Porygon-Z': 'Normal',\n",
       " 'Porygon2': 'Normal',\n",
       " 'Primeape': 'Fighting',\n",
       " 'Prinplup': 'Water',\n",
       " 'Probopass': 'Rock',\n",
       " 'Psyduck': 'Water',\n",
       " 'Pumpkaboo': 'Ghost',\n",
       " 'Pupitar': 'Rock',\n",
       " 'Purrloin': 'Dark',\n",
       " 'Purugly': 'Normal',\n",
       " 'Pyroar': 'Fire',\n",
       " 'Quagsire': 'Water',\n",
       " 'Quilava': 'Fire',\n",
       " 'Quilladin': 'Grass',\n",
       " 'Qwilfish': 'Water',\n",
       " 'Raichu': 'Electric',\n",
       " 'Raikou': 'Electric',\n",
       " 'Ralts': 'Psychic',\n",
       " 'Rampardos': 'Rock',\n",
       " 'Rapidash': 'Fire',\n",
       " 'Raticate': 'Normal',\n",
       " 'Rattata': 'Normal',\n",
       " 'Rayquaza': 'Dragon',\n",
       " 'Regice': 'Ice',\n",
       " 'Regigigas': 'Normal',\n",
       " 'Regirock': 'Rock',\n",
       " 'Registeel': 'Steel',\n",
       " 'Relicanth': 'Water',\n",
       " 'Remoraid': 'Water',\n",
       " 'Reshiram': 'Dragon',\n",
       " 'Reuniclus': 'Psychic',\n",
       " 'Rhydon': 'Ground',\n",
       " 'Rhyhorn': 'Ground',\n",
       " 'Rhyperior': 'Ground',\n",
       " 'Riolu': 'Fighting',\n",
       " 'Roggenrola': 'Rock',\n",
       " 'Roselia': 'Grass',\n",
       " 'Roserade': 'Grass',\n",
       " 'Rotom': 'Electric',\n",
       " 'Rufflet': 'Normal',\n",
       " 'Sableye': 'Dark',\n",
       " 'Salamence': 'Dragon',\n",
       " 'Samurott': 'Water',\n",
       " 'Sandile': 'Ground',\n",
       " 'Sandshrew': 'Ground',\n",
       " 'Sandslash': 'Ground',\n",
       " 'Sawk': 'Fighting',\n",
       " 'Sawsbuck': 'Normal',\n",
       " 'Scatterbug': 'Bug',\n",
       " 'Sceptile': 'Grass',\n",
       " 'Scizor': 'Bug',\n",
       " 'Scolipede': 'Bug',\n",
       " 'Scrafty': 'Dark',\n",
       " 'Scraggy': 'Dark',\n",
       " 'Scyther': 'Bug',\n",
       " 'Seadra': 'Water',\n",
       " 'Seaking': 'Water',\n",
       " 'Sealeo': 'Ice',\n",
       " 'Seedot': 'Grass',\n",
       " 'Seel': 'Water',\n",
       " 'Seismitoad': 'Water',\n",
       " 'Sentret': 'Normal',\n",
       " 'Serperior': 'Grass',\n",
       " 'Servine': 'Grass',\n",
       " 'Seviper': 'Poison',\n",
       " 'Sewaddle': 'Bug',\n",
       " 'Sharpedo': 'Water',\n",
       " 'Shaymin': 'Grass',\n",
       " 'Shedinja': 'Bug',\n",
       " 'Shelgon': 'Dragon',\n",
       " 'Shellder': 'Water',\n",
       " 'Shellos': 'Water',\n",
       " 'Shelmet': 'Bug',\n",
       " 'Shieldon': 'Rock',\n",
       " 'Shiftry': 'Grass',\n",
       " 'Shinx': 'Electric',\n",
       " 'Shroomish': 'Grass',\n",
       " 'Shuckle': 'Bug',\n",
       " 'Shuppet': 'Ghost',\n",
       " 'Sigilyph': 'Psychic',\n",
       " 'Silcoon': 'Bug',\n",
       " 'Simipour': 'Water',\n",
       " 'Simisage': 'Grass',\n",
       " 'Simisear': 'Fire',\n",
       " 'Skarmory': 'Steel',\n",
       " 'Skiddo': 'Grass',\n",
       " 'Skiploom': 'Grass',\n",
       " 'Skitty': 'Normal',\n",
       " 'Skorupi': 'Poison',\n",
       " 'Skrelp': 'Poison',\n",
       " 'Skuntank': 'Poison',\n",
       " 'Slaking': 'Normal',\n",
       " 'Slakoth': 'Normal',\n",
       " 'Sliggoo': 'Dragon',\n",
       " 'Slowbro': 'Water',\n",
       " 'Slowking': 'Water',\n",
       " 'Slowpoke': 'Water',\n",
       " 'Slugma': 'Fire',\n",
       " 'Slurpuff': 'Fairy',\n",
       " 'Smeargle': 'Normal',\n",
       " 'Smoochum': 'Ice',\n",
       " 'Sneasel': 'Dark',\n",
       " 'Snivy': 'Grass',\n",
       " 'Snorlax': 'Normal',\n",
       " 'Snorunt': 'Ice',\n",
       " 'Snover': 'Grass',\n",
       " 'Snubbull': 'Fairy',\n",
       " 'Solosis': 'Psychic',\n",
       " 'Solrock': 'Rock',\n",
       " 'Spearow': 'Normal',\n",
       " 'Spewpa': 'Bug',\n",
       " 'Spheal': 'Ice',\n",
       " 'Spinarak': 'Bug',\n",
       " 'Spinda': 'Normal',\n",
       " 'Spiritomb': 'Ghost',\n",
       " 'Spoink': 'Psychic',\n",
       " 'Spritzee': 'Fairy',\n",
       " 'Squirtle': 'Water',\n",
       " 'Stantler': 'Normal',\n",
       " 'Staraptor': 'Normal',\n",
       " 'Staravia': 'Normal',\n",
       " 'Starly': 'Normal',\n",
       " 'Starmie': 'Water',\n",
       " 'Staryu': 'Water',\n",
       " 'Steelix': 'Steel',\n",
       " 'Stoutland': 'Normal',\n",
       " 'Stunfisk': 'Ground',\n",
       " 'Stunky': 'Poison',\n",
       " 'Sudowoodo': 'Rock',\n",
       " 'Suicune': 'Water',\n",
       " 'Sunflora': 'Grass',\n",
       " 'Sunkern': 'Grass',\n",
       " 'Surskit': 'Bug',\n",
       " 'Swablu': 'Normal',\n",
       " 'Swadloon': 'Bug',\n",
       " 'Swalot': 'Poison',\n",
       " 'Swampert': 'Water',\n",
       " 'Swanna': 'Water',\n",
       " 'Swellow': 'Normal',\n",
       " 'Swinub': 'Ice',\n",
       " 'Swirlix': 'Fairy',\n",
       " 'Swoobat': 'Psychic',\n",
       " 'Sylveon': 'Fairy',\n",
       " 'Taillow': 'Normal',\n",
       " 'Talonflame': 'Fire',\n",
       " 'Tangela': 'Grass',\n",
       " 'Tangrowth': 'Grass',\n",
       " 'Tauros': 'Normal',\n",
       " 'Teddiursa': 'Normal',\n",
       " 'Tentacool': 'Water',\n",
       " 'Tentacruel': 'Water',\n",
       " 'Tepig': 'Fire',\n",
       " 'Terrakion': 'Rock',\n",
       " 'Throh': 'Fighting',\n",
       " 'Thundurus': 'Electric',\n",
       " 'Timburr': 'Fighting',\n",
       " 'Tirtouga': 'Water',\n",
       " 'Togekiss': 'Fairy',\n",
       " 'Togepi': 'Fairy',\n",
       " 'Togetic': 'Fairy',\n",
       " 'Torchic': 'Fire',\n",
       " 'Torkoal': 'Fire',\n",
       " 'Tornadus': 'Flying',\n",
       " 'Torterra': 'Grass',\n",
       " 'Totodile': 'Water',\n",
       " 'Toxicroak': 'Poison',\n",
       " 'Tranquill': 'Normal',\n",
       " 'Trapinch': 'Ground',\n",
       " 'Treecko': 'Grass',\n",
       " 'Trevenant': 'Ghost',\n",
       " 'Tropius': 'Grass',\n",
       " 'Trubbish': 'Poison',\n",
       " 'Turtwig': 'Grass',\n",
       " 'Tympole': 'Water',\n",
       " 'Tynamo': 'Electric',\n",
       " 'Typhlosion': 'Fire',\n",
       " 'Tyranitar': 'Rock',\n",
       " 'Tyrantrum': 'Rock',\n",
       " 'Tyrogue': 'Fighting',\n",
       " 'Tyrunt': 'Rock',\n",
       " 'Umbreon': 'Dark',\n",
       " 'Unfezant': 'Normal',\n",
       " 'Unown': 'Psychic',\n",
       " 'Ursaring': 'Normal',\n",
       " 'Uxie': 'Psychic',\n",
       " 'Vanillish': 'Ice',\n",
       " 'Vanillite': 'Ice',\n",
       " 'Vanilluxe': 'Ice',\n",
       " 'Vaporeon': 'Water',\n",
       " 'Venipede': 'Bug',\n",
       " 'Venomoth': 'Bug',\n",
       " 'Venonat': 'Bug',\n",
       " 'Venusaur': 'Grass',\n",
       " 'Vespiquen': 'Bug',\n",
       " 'Vibrava': 'Ground',\n",
       " 'Victini': 'Psychic',\n",
       " 'Victreebel': 'Grass',\n",
       " 'Vigoroth': 'Normal',\n",
       " 'Vileplume': 'Grass',\n",
       " 'Virizion': 'Grass',\n",
       " 'Vivillon': 'Bug',\n",
       " 'Volbeat': 'Bug',\n",
       " 'Volcanion': 'Fire',\n",
       " 'Volcarona': 'Bug',\n",
       " 'Voltorb': 'Electric',\n",
       " 'Vullaby': 'Dark',\n",
       " 'Vulpix': 'Fire',\n",
       " 'Wailmer': 'Water',\n",
       " 'Wailord': 'Water',\n",
       " 'Walrein': 'Ice',\n",
       " 'Wartortle': 'Water',\n",
       " 'Watchog': 'Normal',\n",
       " 'Weavile': 'Dark',\n",
       " 'Weedle': 'Bug',\n",
       " 'Weepinbell': 'Grass',\n",
       " 'Weezing': 'Poison',\n",
       " 'Whimsicott': 'Grass',\n",
       " 'Whirlipede': 'Bug',\n",
       " 'Whiscash': 'Water',\n",
       " 'Whismur': 'Normal',\n",
       " 'Wigglytuff': 'Normal',\n",
       " 'Wingull': 'Water',\n",
       " 'Wobbuffet': 'Psychic',\n",
       " 'Woobat': 'Psychic',\n",
       " 'Wooper': 'Water',\n",
       " 'Wormadam': 'Bug',\n",
       " 'Wurmple': 'Bug',\n",
       " 'Wynaut': 'Psychic',\n",
       " 'Xatu': 'Psychic',\n",
       " 'Xerneas': 'Fairy',\n",
       " 'Yamask': 'Ghost',\n",
       " 'Yanma': 'Bug',\n",
       " 'Yanmega': 'Bug',\n",
       " 'Yveltal': 'Dark',\n",
       " 'Zangoose': 'Normal',\n",
       " 'Zapdos': 'Electric',\n",
       " 'Zebstrika': 'Electric',\n",
       " 'Zekrom': 'Dragon',\n",
       " 'Zigzagoon': 'Normal',\n",
       " 'Zoroark': 'Dark',\n",
       " 'Zorua': 'Dark',\n",
       " 'Zubat': 'Poison',\n",
       " 'Zweilous': 'Dark',\n",
       " 'Zygarde': 'Dragon'}"
      ]
     },
     "execution_count": 115,
     "metadata": {},
     "output_type": "execute_result"
    }
   ],
   "source": [
    "pokemon_types"
   ]
  },
  {
   "cell_type": "code",
   "execution_count": 116,
   "metadata": {},
   "outputs": [
    {
     "data": {
      "text/plain": [
       "0        Grass\n",
       "1        Grass\n",
       "2        Grass\n",
       "3         Fire\n",
       "4         Fire\n",
       "        ...   \n",
       "716       Dark\n",
       "717     Dragon\n",
       "718       Rock\n",
       "719    Psychic\n",
       "720       Fire\n",
       "Name: Pokemon, Length: 721, dtype: object"
      ]
     },
     "execution_count": 116,
     "metadata": {},
     "output_type": "execute_result"
    }
   ],
   "source": [
    "pokemon_names.map(pokemon_types) # funciona tambien funciona sobre diccionarios para mapearlos"
   ]
  },
  {
   "cell_type": "code",
   "execution_count": null,
   "metadata": {},
   "outputs": [],
   "source": []
  }
 ],
 "metadata": {
  "kernelspec": {
   "display_name": "Python 3",
   "language": "python",
   "name": "python3"
  },
  "language_info": {
   "codemirror_mode": {
    "name": "ipython",
    "version": 3
   },
   "file_extension": ".py",
   "mimetype": "text/x-python",
   "name": "python",
   "nbconvert_exporter": "python",
   "pygments_lexer": "ipython3",
   "version": "3.9.0"
  }
 },
 "nbformat": 4,
 "nbformat_minor": 4
}
